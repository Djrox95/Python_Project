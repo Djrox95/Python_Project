{
 "cells": [
  {
   "cell_type": "markdown",
   "metadata": {},
   "source": [
    "## Exercises\n",
    "\n",
    "Answer the questions or complete the tasks outlined in bold below, use the specific method described if applicable."
   ]
  },
  {
   "cell_type": "markdown",
   "metadata": {},
   "source": [
    "Q-1 Write a short note on python."
   ]
  },
  {
   "cell_type": "raw",
   "metadata": {},
   "source": [
    "Python is an interpreted, object-oriented, high-level programming language.It is high-level built in data structures, combined with dynamic typing also easy to learn as it consit of basic english syntax"
   ]
  },
  {
   "cell_type": "markdown",
   "metadata": {},
   "source": [
    "Q-2 What do you mean of Indentation ? "
   ]
  },
  {
   "cell_type": "raw",
   "metadata": {},
   "source": [
    "In python indentation is very important as the program execution is depend on the indentation."
   ]
  },
  {
   "cell_type": "markdown",
   "metadata": {},
   "source": [
    "Q-3 Why execution is slow in python as compare to other programing langaguge ? "
   ]
  },
  {
   "cell_type": "raw",
   "metadata": {},
   "source": [
    "Python itself manages details of a program like memory allocation, memory deallocation, pointers, etc whuch makes it slow. This makes writing codes in Python easier for programmers."
   ]
  },
  {
   "cell_type": "markdown",
   "metadata": {},
   "source": [
    "Q-4 Write short note on Object Oriented Programming (OOP). "
   ]
  },
  {
   "cell_type": "raw",
   "metadata": {},
   "source": []
  },
  {
   "cell_type": "markdown",
   "metadata": {},
   "source": [
    "Q-4 What is 7 to the power of 4?"
   ]
  },
  {
   "cell_type": "code",
   "execution_count": 2,
   "metadata": {},
   "outputs": [
    {
     "data": {
      "text/plain": [
       "2401"
      ]
     },
     "execution_count": 2,
     "metadata": {},
     "output_type": "execute_result"
    }
   ],
   "source": [
    "7**4"
   ]
  },
  {
   "cell_type": "markdown",
   "metadata": {},
   "source": [
    "Q-5 Given the variables:\n",
    "\n",
    "    planet = \"Earth\"\n",
    "    diameter = 12742\n",
    "\n",
    "** Use .format() to print the following string: **\n",
    "\n",
    "    The diameter of Earth is 12742 kilometers."
   ]
  },
  {
   "cell_type": "code",
   "execution_count": 6,
   "metadata": {},
   "outputs": [
    {
     "name": "stdout",
     "output_type": "stream",
     "text": [
      "The diameter of Earth is 12742 kilometers.\n"
     ]
    }
   ],
   "source": [
    "planet = \"Earth\"\n",
    "diameter = 12742\n",
    "print(\"The diameter of {0} is {1} kilometers.\".format(planet,diameter))"
   ]
  },
  {
   "cell_type": "markdown",
   "metadata": {},
   "source": [
    "\n",
    "\n",
    "\n",
    "\n",
    "Q-6 Assign name, college, Year, CGPA variable using SINGLE input then change the data type as per requirement\n",
    "\n",
    "\n",
    "eg: name = input()\n",
    "\n",
    "    name = str(name)\n",
    "\n",
    "\n",
    "    name = \"Amit\"\n",
    "    college = \"IITM\"\n",
    "    Year = 2\n",
    "    CGPA = 9.3\n",
    "    \n",
    "    and print their data type\n",
    "    \n",
    "    "
   ]
  },
  {
   "cell_type": "code",
   "execution_count": 1,
   "metadata": {},
   "outputs": [
    {
     "name": "stdout",
     "output_type": "stream",
     "text": [
      "name data type is  <class 'str'>\n",
      "college data type is  <class 'str'>\n",
      "year data type is  <class 'int'>\n",
      "CGPA data type is  <class 'float'>\n"
     ]
    }
   ],
   "source": []
  },
  {
   "cell_type": "markdown",
   "metadata": {},
   "source": [
    "\n",
    "\n",
    "Q-7 Create two list and use operators to print the following\n",
    "\n",
    "    (1 in [1,2,3] ) is True.\n",
    "    (4 in [1,2,3] ) is False."
   ]
  },
  {
   "cell_type": "code",
   "execution_count": 13,
   "metadata": {},
   "outputs": [
    {
     "name": "stdout",
     "output_type": "stream",
     "text": [
      "[1, 2, 3]\n"
     ]
    }
   ],
   "source": [
    "l1 = [1,2,3]\n",
    "print(l1)"
   ]
  },
  {
   "cell_type": "markdown",
   "metadata": {},
   "source": [
    "Q-8 Assign two variable using input and perform Addition, Subbstraction, Multiplication, Division, Floor division and modulus"
   ]
  },
  {
   "cell_type": "code",
   "execution_count": 29,
   "metadata": {},
   "outputs": [
    {
     "name": "stdout",
     "output_type": "stream",
     "text": [
      "enter x: 25\n",
      "enter y: 40\n",
      "65\n",
      "-15\n",
      "1000\n",
      "0.625\n",
      "0\n",
      "25\n"
     ]
    }
   ],
   "source": [
    "x = input(\"enter x: \")\n",
    "y = input(\"enter y: \")\n",
    "sum = int(x)+int(y)\n",
    "print(sum)\n",
    "\n",
    "sub = int(x)-int(y)\n",
    "print(sub)\n",
    "\n",
    "multi = int(x) * int(y)\n",
    "print(multi)\n",
    "\n",
    "divide = int(x) / int(y)\n",
    "print(divide)\n",
    "\n",
    "fdivide = int(x) // int(y)\n",
    "print(fdivide)\n",
    "\n",
    "mod = int(x) % int(y)\n",
    "print(mod)\n",
    "\n"
   ]
  },
  {
   "cell_type": "markdown",
   "metadata": {},
   "source": [
    "Q-9 if c = 2 and b = 3 then using Assignment Operators: do the Addition, Subbstraction, Multiplication, Division, Floor division and modulus \n",
    "\n",
    "eg: b += c"
   ]
  },
  {
   "cell_type": "code",
   "execution_count": 33,
   "metadata": {},
   "outputs": [
    {
     "name": "stdout",
     "output_type": "stream",
     "text": [
      "5\n",
      "1\n",
      "6\n",
      "0.6666666666666666\n",
      "0\n",
      "2\n"
     ]
    }
   ],
   "source": [
    "c = 2\n",
    "b = 3\n",
    "print(c+b)\n",
    "print(b-c)\n",
    "print(b*c)\n",
    "print(c/b)\n",
    "print(c//b)\n",
    "print(c%b)\n"
   ]
  },
  {
   "cell_type": "markdown",
   "metadata": {},
   "source": [
    "# Great job!"
   ]
  }
 ],
 "metadata": {
  "kernelspec": {
   "display_name": "Python 3 (ipykernel)",
   "language": "python",
   "name": "python3"
  },
  "language_info": {
   "codemirror_mode": {
    "name": "ipython",
    "version": 3
   },
   "file_extension": ".py",
   "mimetype": "text/x-python",
   "name": "python",
   "nbconvert_exporter": "python",
   "pygments_lexer": "ipython3",
   "version": "3.9.7"
  }
 },
 "nbformat": 4,
 "nbformat_minor": 1
}
